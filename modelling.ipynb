{
  "nbformat": 4,
  "nbformat_minor": 0,
  "metadata": {
    "colab": {
      "name": "modelling.ipynb",
      "provenance": [],
      "collapsed_sections": []
    },
    "kernelspec": {
      "name": "python3",
      "display_name": "Python 3"
    },
    "language_info": {
      "name": "python"
    }
  },
  "cells": [
    {
      "cell_type": "markdown",
      "metadata": {
        "id": "KCCdL3MMSjBE"
      },
      "source": [
        "# Modelling"
      ]
    },
    {
      "cell_type": "markdown",
      "metadata": {
        "id": "l1GlkM8ESqDY"
      },
      "source": [
        "**A) assumptions:**\n",
        "\n",
        "- all applications have the same loan amount\n",
        "- over all periods, percentage of apllications picks due to business model and due to uncertanity measure stays the same\n",
        "- in each period we retrain the previous model, classifier and features stay the same\n",
        "- the number of applications per period is constant\n",
        "- periods = 100"
      ]
    },
    {
      "cell_type": "markdown",
      "metadata": {
        "id": "eVwKewGGUYsO"
      },
      "source": [
        "**B) coding approach:**\n",
        "\n",
        "1. compare and find optimal classifier for business model in t=1, based on historical data\n",
        "\n",
        "2. decide for percentage(business pick) -> how much % of applications are going to receive the loan, based on predicted default probability?\n",
        "\n",
        "3. use business model and business picks only [no active learning yet] for predictions over all periods, calculate the profit (or loss) after 100 periods\n",
        "\n",
        "4. afterwards, decide for percentage(research pick) and one unceartainity measure -> how many % of applications not accepted, are still going to receive the loan ? (if there are instances with same uncertainity score, pick the one with lower default probability)\n",
        "\n",
        "5. do the same as in 3. but this time with research picks too [active learning is now incorporated]\n",
        "\n",
        "6. compare the profit (or loss) between approaches of 3. and 5.\n",
        "\n",
        "-> this result answers the question, if AL (active learning) has an uplift on model performance\n",
        "\n",
        "7. repeat 3. and 5. but this time with a different unceartinity measure, compare and pick measure with highest performance uplift\n",
        "\n",
        "8. now repeat everything but with different variations for percetange(business pick) and percentage(research pick), the new percetanges stay constant over all periods\n",
        "\n",
        "9. additional: after having optimal classifier, percentages (business and researck pick), and uncertainity measure, try out different magnitudes for the covariate shif; e.g. in the first run after each period, each feature is multiplied or added by some number, in the second run increase/decrease this number\n",
        "\n",
        "-> these results answer the question, in what cases and to which extent AL improves the performance\n"
      ]
    }
  ]
}